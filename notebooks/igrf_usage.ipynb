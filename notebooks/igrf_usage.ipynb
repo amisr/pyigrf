{
 "cells": [
  {
   "cell_type": "code",
   "execution_count": 1,
   "metadata": {},
   "outputs": [],
   "source": [
    "from pyigrf.igrf import igrf\n",
    "import numpy as np\n",
    "import datetime"
   ]
  },
  {
   "cell_type": "code",
   "execution_count": 2,
   "metadata": {},
   "outputs": [],
   "source": [
    "# Geodetic to Geocentric coordinates transformation\n",
    "# WGS84 constants\n",
    "# reference:\n",
    "# http://earth-info.nga.mil/GandG/publications/tr8350.2/wgs84fin.pdf\n",
    "a_WGS=6378.137\n",
    "flatness = 1./298.257223563  # flatenning\n",
    "b_WGS=a_WGS*(1.-flatness)    # WGS polar radius (semi-minor axis) in km\n",
    "eccentricity=np.sqrt(a_WGS**2-b_WGS**2)/a_WGS\n",
    "\n",
    "def geod2geoc(lon,geodlat,h):\n",
    "    # returns geocentric xyz coordinates (ECEF) in km of a target with\n",
    "    # latitude       geodlat (rad) --- geodetic\n",
    "    # longitude      lon (rad)\n",
    "    # height         h (km above local ellipsoid)\n",
    "    n=a_WGS / np.sqrt(1.-flatness*(2.-flatness) * np.sin(geodlat)**2.)\n",
    "    # cartesian geocentric coordinates wrt Greenwich\n",
    "    x=(n+h)*np.cos(geodlat)*np.cos(lon)\n",
    "    y=(n+h)*np.cos(geodlat)*np.sin(lon)\n",
    "    z=(n*(1.-eccentricity**2.)+h)*np.sin(geodlat)   \n",
    "    \n",
    "    p   = np.sqrt(x**2. + y**2.)\n",
    "    geoclat = np.arctan2(z,p)        # geocentric latitude (theta)\n",
    "    \n",
    "    return x,y,z,geoclat"
   ]
  },
  {
   "cell_type": "markdown",
   "metadata": {},
   "source": [
    "## B @ 100 km above PFISR on Feb 09, 2020:\n",
    "https://amisr.com/amisr/about/about_pfisr/pfisr-specs/\n",
    "\n",
    "Latitude, Longitude, Altitude: 65.12992 N, 147.47104 W, 213 m"
   ]
  },
  {
   "cell_type": "code",
   "execution_count": 3,
   "metadata": {},
   "outputs": [
    {
     "name": "stdout",
     "output_type": "stream",
     "text": [
      "Using coefficients file: igrf13coeffs.txt\n",
      "max_n is 13\n",
      "Last Epoch year is: 2020.0\n",
      "secular variation: 2020-25\n"
     ]
    }
   ],
   "source": [
    "# instantiating IGRF:\n",
    "igrf0 = igrf(verbose=True)"
   ]
  },
  {
   "cell_type": "code",
   "execution_count": 4,
   "metadata": {},
   "outputs": [
    {
     "data": {
      "text/plain": [
       "(11149.457507389841, 3392.8408343304177, 52465.00856440682, 53743.82657849618)"
      ]
     },
     "execution_count": 4,
     "metadata": {},
     "output_type": "execute_result"
    }
   ],
   "source": [
    "deg = 180/np.pi\n",
    "geod_lat = 65.12992\n",
    "lon = -147.47104\n",
    "ht = 0.213 + 100   #km\n",
    "dt0 = datetime.datetime(2020,2,9)\n",
    "yeardays = datetime.datetime(dt0.year,12,31).timetuple().tm_yday\n",
    "x,y,z,lat = geod2geoc(lon/deg, geod_lat/deg, ht)\n",
    "doy = dt0.timetuple().tm_yday\n",
    "year = dt0.year + doy/yeardays\n",
    "\n",
    "[Bn,Be,Bd,B] = igrf0.igrf_B(year, ht, lon, lat*deg)\n",
    "Bn,Be,Bd,B"
   ]
  }
 ],
 "metadata": {
  "kernelspec": {
   "display_name": "python3.6_env",
   "language": "python",
   "name": "python3.6_env"
  },
  "language_info": {
   "codemirror_mode": {
    "name": "ipython",
    "version": 3
   },
   "file_extension": ".py",
   "mimetype": "text/x-python",
   "name": "python",
   "nbconvert_exporter": "python",
   "pygments_lexer": "ipython3",
   "version": "3.6.5"
  }
 },
 "nbformat": 4,
 "nbformat_minor": 4
}
